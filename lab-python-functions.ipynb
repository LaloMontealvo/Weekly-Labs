{
 "cells": [
  {
   "cell_type": "markdown",
   "id": "25d7736c-ba17-4aff-b6bb-66eba20fbf4e",
   "metadata": {},
   "source": [
    "# Lab | Functions"
   ]
  },
  {
   "cell_type": "markdown",
   "id": "0c581062-8967-4d93-b06e-62833222f930",
   "metadata": {
    "tags": []
   },
   "source": [
    "## Exercise: Managing Customer Orders with Functions\n",
    "\n",
    "In the previous exercise, you improved the code for managing customer orders by using loops and flow control. Now, let's take it a step further and refactor the code by introducing functions.\n",
    "\n",
    "Follow the steps below to complete the exercise:\n",
    "\n",
    "1. Define a function named `initialize_inventory` that takes `products` as a parameter. Inside the function, implement the code for initializing the inventory dictionary using a loop and user input.\n",
    "\n",
    "2. Define a function named `get_customer_orders` that takes no parameters. Inside the function, implement the code for prompting the user to enter the product names using a loop. The function should return the `customer_orders` set.\n",
    "\n",
    "3. Define a function named `update_inventory` that takes `customer_orders` and `inventory` as parameters. Inside the function, implement the code for updating the inventory dictionary based on the customer orders.\n",
    "\n",
    "4. Define a function named `calculate_order_statistics` that takes `customer_orders` and `products` as parameters. Inside the function, implement the code for calculating the order statistics (total products ordered, and percentage of unique products ordered). The function should return these values.\n",
    "\n",
    "5. Define a function named `print_order_statistics` that takes `order_statistics` as a parameter. Inside the function, implement the code for printing the order statistics.\n",
    "\n",
    "6. Define a function named `print_updated_inventory` that takes `inventory` as a parameter. Inside the function, implement the code for printing the updated inventory.\n",
    "\n",
    "7. Call the functions in the appropriate sequence to execute the program and manage customer orders.\n",
    "\n",
    "Hints for functions:\n",
    "\n",
    "- Consider the input parameters required for each function and their return values.\n",
    "- Utilize function parameters and return values to transfer data between functions.\n",
    "- Test your functions individually to ensure they work correctly.\n",
    "\n",
    "\n"
   ]
  },
  {
   "cell_type": "code",
   "execution_count": 42,
   "id": "bd8c032d",
   "metadata": {},
   "outputs": [
    {
     "name": "stdout",
     "output_type": "stream",
     "text": [
      "\n",
      "Order Statistics:\n",
      "- Total piece ordered: 4\n",
      "- Percentage piece: 133.33\n",
      "\n",
      "Updated Inventory:\n",
      "- t-shirt: 19\n",
      "- mug: 19\n",
      "- hat: 19\n"
     ]
    }
   ],
   "source": [
    "products = [\"t-shirt\", \"mug\", \"hat\"]\n",
    "\n",
    "def initialize_inventory(products):\n",
    "    inventory = {}\n",
    "    for product in products:\n",
    "        quantity = int(input(f\"Enter the quantity of {product}: \"))\n",
    "        inventory[product] = quantity\n",
    "    return inventory\n",
    "\n",
    "def get_customer_orders():\n",
    "    customer_orders = set()\n",
    "    for i in range(4):\n",
    "        order = input(f\"Enter the name of product {i+1} to order: \").lower()\n",
    "        customer_orders.add(order)\n",
    "    return customer_orders\n",
    "\n",
    "def update_inventory(customer_orders, inventory):\n",
    "    for product in customer_orders:\n",
    "        if product in inventory and inventory[product] > 0:\n",
    "            inventory[product] -= 1\n",
    "\n",
    "def calculate_order_statistics(customer_orders, products):\n",
    "    total_piece_ordered = len(customer_orders)\n",
    "    percentage_piece = (total_piece_ordered / len(products)) * 100\n",
    "    return {\"total_piece_ordered\": total_piece_ordered, \"percentage_piece\": round(percentage_piece, 2)}\n",
    "\n",
    "def print_order_statistics(order_statistics):\n",
    "    print(\"\\nOrder Statistics:\")\n",
    "    for key, value in order_statistics.items():\n",
    "        print(f\"- {key.replace('_', ' ').capitalize()}: {value}\")\n",
    "\n",
    "def print_updated_inventory(inventory):\n",
    "    print(\"\\nUpdated Inventory:\")\n",
    "    for product, quantity in inventory.items():\n",
    "        print(f\"- {product}: {quantity}\")\n",
    "\n",
    "inventory = initialize_inventory(products)\n",
    "customer_orders = get_customer_orders()\n",
    "update_inventory(customer_orders, inventory)\n",
    "order_statistics = calculate_order_statistics(customer_orders, products)\n",
    "print_order_statistics(order_statistics)\n",
    "print_updated_inventory(inventory)"
   ]
  },
  {
   "cell_type": "code",
   "execution_count": null,
   "id": "e1dfbef2",
   "metadata": {},
   "outputs": [],
   "source": [
    "\n",
    "\n",
    "def initialize_inventory(products):\n",
    "    inventory = {}\n",
    "    for product in products:\n",
    "        quantity = int(input(f\"Enter the quantity of {product}: \"))\n",
    "        inventory[product] = quantity\n",
    "    return inventory\n",
    "\n",
    "def get_customer_orders():\n",
    "    customer_orders = set()\n",
    "    for i in range(3):\n",
    "        order = input(f\"Enter the name of product {i+1} to order: \")\n",
    "        customer_orders.add(order)\n",
    "    return customer_orders\n",
    "\n",
    "def update_inventory(customer_orders, inventory):\n",
    "    for order in customer_orders:\n",
    "        if order in inventory and inventory[order] > 0:\n",
    "            inventory[order] -= 1\n",
    "\n",
    "def calculate_order_statistics(customer_orders, products):\n",
    "    total_ordered = len(customer_orders)\n",
    "    percentage_unique = (total_ordered / len(products)) * 100\n",
    "    return {\"total_ordered\": total_ordered, \"percentage_unique\": percentage_unique}\n",
    "\n",
    "def print_order_statistics(order_statistics):\n",
    "    print(\"Order Statistics:\")\n",
    "    for k, v in order_statistics.items():\n",
    "        print(f\"{k}: {v}\")\n",
    "\n",
    "def print_updated_inventory(inventory):\n",
    "    print(\"Updated Inventory:\")\n",
    "    for product, quantity in inventory.items():\n",
    "        print(f\"{product}: {quantity}\")"
   ]
  }
 ],
 "metadata": {
  "kernelspec": {
   "display_name": "data-analyst",
   "language": "python",
   "name": "python3"
  },
  "language_info": {
   "codemirror_mode": {
    "name": "ipython",
    "version": 3
   },
   "file_extension": ".py",
   "mimetype": "text/x-python",
   "name": "python",
   "nbconvert_exporter": "python",
   "pygments_lexer": "ipython3",
   "version": "3.13.5"
  }
 },
 "nbformat": 4,
 "nbformat_minor": 5
}
